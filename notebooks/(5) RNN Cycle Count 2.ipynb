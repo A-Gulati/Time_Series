{
 "cells": [
  {
   "cell_type": "code",
   "execution_count": 1,
   "metadata": {},
   "outputs": [],
   "source": [
    "import autograd.numpy as np\n",
    "\n",
    "# this is needed to compensate for %matplotl+ib notebook's tendancy to blow up images when plotted inline\n",
    "from matplotlib import rcParams\n",
    "rcParams['figure.autolayout'] = True\n",
    "%matplotlib notebook\n",
    "%matplotlib inline\n",
    "%load_ext autoreload\n",
    "%autoreload 2\n",
    "\n",
    "import warnings\n",
    "warnings.filterwarnings('ignore')\n",
    "\n",
    "import random\n",
    "import matplotlib.pyplot as plt\n",
    "from autograd import grad\n",
    "from mpl_toolkits.mplot3d import Axes3D\n",
    "from IPython.display import Image\n",
    "from scipy.signal import find_peaks\n",
    "from sklearn.preprocessing import MinMaxScaler\n",
    "\n",
    "from numpy.fft import *\n",
    "import matplotlib.style as style \n",
    "style.use('ggplot')\n",
    "\n",
    "# import function flattening module from autograd\n",
    "from autograd.misc.flatten import flatten_func\n",
    "\n",
    "import math"
   ]
  },
  {
   "cell_type": "code",
   "execution_count": 2,
   "metadata": {},
   "outputs": [],
   "source": [
    "data = np.loadtxt('../data/test.csv',delimiter = ' ')[0]"
   ]
  },
  {
   "cell_type": "code",
   "execution_count": 3,
   "metadata": {},
   "outputs": [],
   "source": [
    "#function to filter out frequencies in signal that are above the threshold\n",
    "def filter_signal(signal, threshold=5e3):\n",
    "    fourier = rfft(signal)\n",
    "    frequencies = rfftfreq(signal.size, d=20e-3/signal.size)\n",
    "    fourier[frequencies > threshold] = 0\n",
    "    return irfft(fourier)"
   ]
  },
  {
   "cell_type": "code",
   "execution_count": 4,
   "metadata": {},
   "outputs": [],
   "source": [
    "#Plot of a clean window of data\n",
    "clean_data = data[:20000]\n",
    "\n",
    "# plt.figure(figsize=(35,5))\n",
    "# plt.plot(clean_data)\n",
    "# plt.show()"
   ]
  },
  {
   "cell_type": "code",
   "execution_count": 5,
   "metadata": {},
   "outputs": [],
   "source": [
    "scaler = MinMaxScaler(feature_range=(0, 5)) #init scaler, scales between 0 and 5\n",
    "Y_old = scaler.fit_transform(np.asarray([i for i in range(len(clean_data)+1)]).reshape(-1,1)) #generate supervised output data\n",
    "\n",
    "#plot the output with points for ints - represents the end of a cycle and an increment in count\n",
    "# plt.figure(figsize=(35,5))\n",
    "# plt.plot(Y_old)\n",
    "# plt.scatter([4000,4000*2,4000*3,4000*4,4000*5],[1,2,3,4,5],color='Black')\n",
    "# plt.show()"
   ]
  },
  {
   "cell_type": "code",
   "execution_count": 6,
   "metadata": {},
   "outputs": [
    {
     "name": "stdout",
     "output_type": "stream",
     "text": [
      "(1, 4001)\n",
      "(1, 4001)\n"
     ]
    }
   ],
   "source": [
    "actions = np.asarray([filter_signal(clean_data)[:4001]]) #equivalent to actions\n",
    "states = np.asarray(Y_old[:4001].copy()).T #equivalent to states\n",
    "\n",
    "x_new = np.asarray([actions[0][:4001]])\n",
    "y_new = np.asarray([states[0][:4001]])\n",
    "\n",
    "print(x_new.shape)\n",
    "print(y_new.shape)"
   ]
  },
  {
   "cell_type": "code",
   "execution_count": null,
   "metadata": {},
   "outputs": [],
   "source": []
  },
  {
   "cell_type": "code",
   "execution_count": 31,
   "metadata": {},
   "outputs": [],
   "source": [
    "#Linear Model\n",
    "def model3(theta,m2_result,mprev):\n",
    "    return theta[7]+theta[8]*mprev+theta[9]*m2_result\n",
    "\n",
    "\n",
    "def model2(theta,p,m1,mprev):\n",
    "    #return ((theta[7]-1)/(theta[7]))*mprev + (1/theta[7])*m1\n",
    "#     return ((p-1)/(p))*mprev + (1/p)*m1 #p is a the index of current value\n",
    "    temp2 = ((p-1)/(p))*mprev + (1/p)*m1 #p is a the index of current value\n",
    "    return model3(theta,temp2,mprev)\n",
    "\n",
    "#Exponential Model\n",
    "def model(theta,a_t,prev_out,c):\n",
    "#     return theta[0]*prev_out + (1-theta[0])*a_t + theta[1]\n",
    "#     return theta[0]*prev_out + theta[1]*a_t \n",
    "#     return theta[0]*prev_out + math.log(prev_out,theta[1]) + theta[2]*a_t + math.log(prev_out,theta[3])\n",
    "#     return theta[0]*prev_out + np.log(prev_out) / np.log(theta[1]) + theta[2]*a_t + np.log(a_t) / np.log(theta[3])\n",
    "#     return theta[0]*prev_out + theta[2]*a_t + theta[3]\n",
    "#     return theta[0]*prev_out**theta[1] + theta[2]*a_t \n",
    "\n",
    "    temp = theta[0] + theta[1]*np.sin(theta[2]*prev_out) + theta[3]*np.sin(theta[4]*a_t) + theta[5]*prev_out + theta[6]*a_t\n",
    "    return model2(theta,c,temp,prev_out)\n",
    "\n",
    "#     return theta[0]+theta[1]*prev_out+theta[2]*a_t+ prev_out**(.5+theta[3])+a_t**(.5+theta[4])\n",
    "\n",
    "\n",
    "# loop for training model over all input/output action/state pairs\n",
    "def loop(theta,s,a, prev_out):\n",
    "    pr = prev_out\n",
    "    # compute least squares over all imitator model outputs at once\n",
    "    s_predict = [s[:,0]]  # container for system_model state outputs\n",
    "    count=0\n",
    "    for t in range(a.shape[1]-1):\n",
    "        count+=1\n",
    "        # get current action-state pair\n",
    "        s_t = s[:,t]\n",
    "        a_t = a[:,t]\n",
    "\n",
    "        # feed into system_model to get predicted output\n",
    "        modelout = model(theta,a_t,pr,count)\n",
    "        s_hat = modelout\n",
    "        \n",
    "        # store prediction\n",
    "        s_predict.append(s_hat)\n",
    "        pr = s_hat\n",
    "        \n",
    "    # array-afy predictions and return\n",
    "    return np.array(s_predict).T\n",
    "\n",
    "# an implementation of the least squares cost for system identification\n",
    "# note here: s is an (1 x T) array and a an (1 x T-1) array\n",
    "def least_squares(theta,s,a):\n",
    "#     print(\"Least Squares Called.\")\n",
    "    # loop - runs over all action-state pairs and produces entire\n",
    "    # state prediction set\n",
    "    p = 0.1\n",
    "    s_predict1 = loop(theta,s,a,p)\n",
    "#     s_predict = loop2(theta,s,a)\n",
    "    \n",
    "    # compute least squares error between real and predicted states\n",
    "    cost = np.sum((s_predict1[:,1:] - s[:,1:])**2)\n",
    "    return cost/float(s.shape[1]-1)\n",
    "\n",
    "# a simple initializer for this model\n",
    "def initializer():\n",
    "    return 1e-1*np.random.randn(10,1)\n",
    "#     return np.ones((8,1))\n",
    "#     return np.array([[5]])\n",
    "\n",
    "#1+2*maxits calls to least square\n",
    "def gradient_descent(g,alpha,max_its,w): \n",
    "    # compute gradient module using autograd\n",
    "    gradient = grad(g)\n",
    "\n",
    "    # run the gradient descent loop\n",
    "    weight_history = [w] # weight history container\n",
    "    cost_history = [g(w,actions,states)]\n",
    "    \n",
    "    for k in range(max_its):\n",
    "\n",
    "#         if 5%5==0: print(\"Iteration\",k)\n",
    "        print(\"Iteration\",k)\n",
    "            \n",
    "        # evaluate the gradient\n",
    "        grad_eval = gradient(w,actions,states)\n",
    "\n",
    "        # take gradient descent step\n",
    "        w = w - alpha*grad_eval\n",
    "        \n",
    "        # record weight and cost\n",
    "        weight_history.append(w)\n",
    "        cost_history.append(g(w,actions,states))\n",
    "        \n",
    "    return weight_history,cost_history"
   ]
  },
  {
   "cell_type": "code",
   "execution_count": 36,
   "metadata": {
    "scrolled": true
   },
   "outputs": [
    {
     "name": "stdout",
     "output_type": "stream",
     "text": [
      "Iteration 0\n",
      "Iteration 1\n",
      "Iteration 2\n",
      "Iteration 3\n",
      "Iteration 4\n",
      "Iteration 5\n",
      "Iteration 6\n",
      "Iteration 7\n",
      "Iteration 8\n",
      "Iteration 9\n"
     ]
    }
   ],
   "source": [
    "g=least_squares;\n",
    "w=initializer();\n",
    "k=10; alph=3e-3;\n",
    "weight_history_1,cost_history_1 = gradient_descent(g,alph,k,w)"
   ]
  },
  {
   "cell_type": "code",
   "execution_count": 37,
   "metadata": {
    "scrolled": true
   },
   "outputs": [
    {
     "data": {
      "image/png": "[encoded data removed]",
      "text/plain": [
       "<Figure size 720x360 with 1 Axes>"
      ]
     },
     "metadata": {},
     "output_type": "display_data"
    }
   ],
   "source": [
    "fig = plt.figure(figsize=(10,5))\n",
    "plt.plot(range(len(cost_history_1)),cost_history_1,c='red',label='alpha = '+str(alph))\n",
    "plt.legend(loc='upper right')\n",
    "plt.title(\"Cost Function History Plot\")\n",
    "plt.xlabel(\"Iteration Number\")\n",
    "plt.ylabel(\"Cost Function 'g(w)'\")\n",
    "plt.show()"
   ]
  },
  {
   "cell_type": "code",
   "execution_count": 38,
   "metadata": {},
   "outputs": [
    {
     "data": {
      "image/png": "[encoded data removed]",
      "text/plain": [
       "<Figure size 720x360 with 1 Axes>"
      ]
     },
     "metadata": {},
     "output_type": "display_data"
    }
   ],
   "source": [
    "w1 = weight_history_1[-1]\n",
    "p = 0.1\n",
    "sp=[]\n",
    "mywave=[]\n",
    "count=0\n",
    "for i in x_new:\n",
    "    count+=1\n",
    "    temp = model(w1,i,p,count)\n",
    "    mywave.append(temp)\n",
    "    #sp.append(mywave)\n",
    "    p = temp\n",
    "\n",
    "# mywave= [model(w1,x_new,p)]\n",
    "\n",
    "fig = plt.figure(figsize=(10,5))\n",
    "\n",
    "plt.plot(y_new[0],c='red')\n",
    "plt.plot(mywave[0],c=\"green\")\n",
    "\n",
    "plt.title(\"Prediction vs actual data\")\n",
    "plt.show()"
   ]
  },
  {
   "cell_type": "code",
   "execution_count": 39,
   "metadata": {},
   "outputs": [
    {
     "data": {
      "text/plain": [
       "[array([[-0.04270869],\n",
       "        [ 0.08061124],\n",
       "        [-0.14287578],\n",
       "        [-0.03067798],\n",
       "        [-0.22220038],\n",
       "        [-0.04934391],\n",
       "        [-0.00806927],\n",
       "        [ 0.06219802],\n",
       "        [-0.04298975],\n",
       "        [-0.0077545 ]]), array([[-0.04270873],\n",
       "        [ 0.08061124],\n",
       "        [-0.14287578],\n",
       "        [-0.03067798],\n",
       "        [-0.22220038],\n",
       "        [-0.04934392],\n",
       "        [-0.00806927],\n",
       "        [ 0.06185482],\n",
       "        [-0.04301006],\n",
       "        [-0.00777535]]), array([[-0.04270877],\n",
       "        [ 0.08061124],\n",
       "        [-0.14287578],\n",
       "        [-0.03067798],\n",
       "        [-0.22220038],\n",
       "        [-0.04934392],\n",
       "        [-0.00806927],\n",
       "        [ 0.06151351],\n",
       "        [-0.04303015],\n",
       "        [-0.00779598]]), array([[-0.04270881],\n",
       "        [ 0.08061124],\n",
       "        [-0.14287578],\n",
       "        [-0.03067798],\n",
       "        [-0.22220039],\n",
       "        [-0.04934392],\n",
       "        [-0.00806927],\n",
       "        [ 0.06117408],\n",
       "        [-0.04305002],\n",
       "        [-0.00781639]]), array([[-0.04270885],\n",
       "        [ 0.08061124],\n",
       "        [-0.14287578],\n",
       "        [-0.03067798],\n",
       "        [-0.22220039],\n",
       "        [-0.04934392],\n",
       "        [-0.00806927],\n",
       "        [ 0.06083652],\n",
       "        [-0.04306967],\n",
       "        [-0.00783657]]), array([[-0.04270889],\n",
       "        [ 0.08061124],\n",
       "        [-0.14287578],\n",
       "        [-0.03067798],\n",
       "        [-0.22220039],\n",
       "        [-0.04934393],\n",
       "        [-0.00806926],\n",
       "        [ 0.06050082],\n",
       "        [-0.0430891 ],\n",
       "        [-0.00785654]]), array([[-0.04270894],\n",
       "        [ 0.08061124],\n",
       "        [-0.14287578],\n",
       "        [-0.03067798],\n",
       "        [-0.22220039],\n",
       "        [-0.04934393],\n",
       "        [-0.00806926],\n",
       "        [ 0.06016696],\n",
       "        [-0.04310832],\n",
       "        [-0.00787629]]), array([[-0.04270898],\n",
       "        [ 0.08061124],\n",
       "        [-0.14287578],\n",
       "        [-0.03067798],\n",
       "        [-0.22220039],\n",
       "        [-0.04934393],\n",
       "        [-0.00806926],\n",
       "        [ 0.05983495],\n",
       "        [-0.04312732],\n",
       "        [-0.00789583]]), array([[-0.04270902],\n",
       "        [ 0.08061124],\n",
       "        [-0.14287578],\n",
       "        [-0.03067798],\n",
       "        [-0.22220039],\n",
       "        [-0.04934393],\n",
       "        [-0.00806926],\n",
       "        [ 0.05950476],\n",
       "        [-0.04314612],\n",
       "        [-0.00791516]]), array([[-0.04270906],\n",
       "        [ 0.08061124],\n",
       "        [-0.14287578],\n",
       "        [-0.03067798],\n",
       "        [-0.22220039],\n",
       "        [-0.04934393],\n",
       "        [-0.00806926],\n",
       "        [ 0.0591764 ],\n",
       "        [-0.04316471],\n",
       "        [-0.00793428]]), array([[-0.0427091 ],\n",
       "        [ 0.08061124],\n",
       "        [-0.14287578],\n",
       "        [-0.03067798],\n",
       "        [-0.22220039],\n",
       "        [-0.04934394],\n",
       "        [-0.00806926],\n",
       "        [ 0.05884983],\n",
       "        [-0.04318309],\n",
       "        [-0.00795319]])]"
      ]
     },
     "execution_count": 39,
     "metadata": {},
     "output_type": "execute_result"
    }
   ],
   "source": [
    "weight_history_1"
   ]
  },
  {
   "cell_type": "code",
   "execution_count": null,
   "metadata": {},
   "outputs": [],
   "source": []
  },
  {
   "cell_type": "code",
   "execution_count": null,
   "metadata": {},
   "outputs": [],
   "source": []
  },
  {
   "cell_type": "code",
   "execution_count": null,
   "metadata": {},
   "outputs": [],
   "source": []
  }
 ],
 "metadata": {
  "kernelspec": {
   "display_name": "Python 3",
   "language": "python",
   "name": "python3"
  },
  "language_info": {
   "codemirror_mode": {
    "name": "ipython",
    "version": 3
   },
   "file_extension": ".py",
   "mimetype": "text/x-python",
   "name": "python",
   "nbconvert_exporter": "python",
   "pygments_lexer": "ipython3",
   "version": "3.6.8"
  }
 },
 "nbformat": 4,
 "nbformat_minor": 2
}
