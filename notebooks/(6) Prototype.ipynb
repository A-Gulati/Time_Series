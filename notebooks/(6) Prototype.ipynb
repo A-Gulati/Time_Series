{
 "cells": [
  {
   "cell_type": "code",
   "execution_count": 1,
   "metadata": {},
   "outputs": [],
   "source": [
    "# lstm model\n",
    "from numpy import mean\n",
    "from numpy import std\n",
    "from numpy import dstack\n",
    "from pandas import read_csv\n",
    "\n",
    "from tensorflow.keras.models import Sequential\n",
    "from tensorflow.keras.layers import Dense\n",
    "from tensorflow.keras.layers import Flatten\n",
    "from tensorflow.keras.layers import Dropout\n",
    "from tensorflow.keras.layers import LSTM\n",
    "from tensorflow.keras.utils import to_categorical\n",
    "from matplotlib import pyplot\n",
    "\n",
    "# from tensorflow.python.framework import ops\n",
    "# ops.reset_default_graph()\n",
    "\n",
    "import seaborn as sns\n",
    "from sklearn.preprocessing import MinMaxScaler\n",
    "import math\n",
    "\n",
    "\n",
    "from numpy.fft import rfft,irfft,rfftfreq\n",
    "import numpy as np"
   ]
  },
  {
   "cell_type": "code",
   "execution_count": null,
   "metadata": {},
   "outputs": [],
   "source": []
  },
  {
   "cell_type": "code",
   "execution_count": null,
   "metadata": {},
   "outputs": [],
   "source": [
    "# test signal\n",
    "data = np.loadtxt('../data/test.csv')[0]"
   ]
  },
  {
   "cell_type": "code",
   "execution_count": null,
   "metadata": {},
   "outputs": [],
   "source": [
    "# # test signal\n",
    "# data = np.loadtxt('../data/test.csv')[0]\n",
    "\n",
    "# #function to filter out frequencies in signal that are above the threshold\n",
    "# def filter_signal(signal, threshold=5e3):\n",
    "#     fourier = rfft(signal)\n",
    "#     frequencies = rfftfreq(signal.size, d=20e-3/signal.size)\n",
    "#     fourier[frequencies > threshold] = 0\n",
    "#     return irfft(fourier)\n",
    "\n",
    "# clean_data = data[:20000]\n",
    "# scaler = MinMaxScaler(feature_range=(0, 5)) #init scaler, scales between 0 and 5\n",
    "# Y_old = scaler.fit_transform(np.asarray([i for i in range(len(clean_data)+1)]).reshape(-1,1)) #generate supervised output data\n",
    "\n",
    "# actions = np.asarray([filter_signal(clean_data)[:4001]]) #X - equivalent to actions\n",
    "# states = np.asarray(Y_old[:4001].copy()).T #Y - equivalent to states\n",
    "\n",
    "# x = np.asarray([actions[0][:4001]])\n",
    "# y = np.asarray([states[0][:4001]])\n",
    "\n"
   ]
  },
  {
   "cell_type": "code",
   "execution_count": null,
   "metadata": {},
   "outputs": [],
   "source": [
    "# # standard normalization function \n",
    "# def standard_normalizer(x):\n",
    "#     # compute the mean and standard deviation of the input\n",
    "#     x_means = np.mean(x,axis = 1)[:,np.newaxis]\n",
    "#     x_stds = np.std(x,axis = 1)[:,np.newaxis]   \n",
    "\n",
    "#     # check to make sure thta x_stds > small threshold, for those not\n",
    "#     # divide by 1 instead of original standard deviation\n",
    "#     ind = np.argwhere(x_stds < 10**(-2))\n",
    "#     if len(ind) > 0:\n",
    "#         ind = [v[0] for v in ind]\n",
    "#         adjust = np.zeros((x_stds.shape))\n",
    "#         adjust[ind] = 1.0\n",
    "#         x_stds += adjust\n",
    "\n",
    "#     # create standard normalizer function\n",
    "#     normalizer = lambda data: (data - x_means)/x_stds\n",
    "\n",
    "#     # create inverse standard normalizer\n",
    "#     inverse_normalizer = lambda data: data*x_stds + x_means\n",
    "\n",
    "#     # return normalizer \n",
    "#     return normalizer,inverse_normalizer"
   ]
  },
  {
   "cell_type": "code",
   "execution_count": null,
   "metadata": {},
   "outputs": [],
   "source": [
    "# normalizer,inverse_normalizer = standard_normalizer(x)\n",
    "# x_normalized = normalizer(x)\n",
    "\n",
    "# import matplotlib.pyplot as plt\n",
    "# fig = plt.figure(figsize=(12,4))\n",
    "# a = plt.subplot(1,2,1)\n",
    "# plt.plot(x_normalized.flatten(),c='b')\n",
    "# a = plt.subplot(1,2,2)\n",
    "# plt.plot(y.flatten(),c='r')\n",
    "# plt.show()\n",
    "\n",
    "# # X_train = np.reshape(x_normalized, (x_normalized.T.shape[0], 1, x_normalized.T.shape[1]))\n",
    "# # X_test = np.reshape(X_test, (X_test.shape[0], 1, X_test.shape[1]))\n",
    "# # X_train.shape\n",
    "# xin = x_normalized.reshape((1, 4001, 1))\n",
    "# yin = y.reshape((1, 4001, 1))\n",
    "\n",
    "# # fit and evaluate a model\n",
    "# def evaluate_model(x,y):\n",
    "#     verbose, epochs, batch_size = 0, 15, 64\n",
    "#     n_timesteps, n_features, n_outputs = x.shape[1], 1, y.shape[1]\n",
    "# #     print(n_timesteps)\n",
    "# #     print(n_features)\n",
    "# #     print(n_outputs)\n",
    "#     model = Sequential()\n",
    "#     model.add(LSTM(100, input_shape=(n_timesteps,n_features)))\n",
    "#     model.add(Dropout(0.5))\n",
    "#     model.add(Dense(100, activation='relu'))\n",
    "#     model.add(Dense(n_outputs, activation='softmax'))\n",
    "#     model.compile(loss='categorical_crossentropy', optimizer='adam', metrics=['accuracy'])\n",
    "#     # fit network\n",
    "#     model.fit(x, y, epochs=epochs, batch_size=batch_size, verbose=verbose)\n",
    "#     # evaluate model\n",
    "#     _, accuracy = model.evaluate(x, y, batch_size=batch_size, verbose=0)\n",
    "#     return accuracy,model\n",
    "\n",
    "# a,model = evaluate_model(xin,y)\n",
    "# print(a)\n",
    "# model"
   ]
  },
  {
   "cell_type": "code",
   "execution_count": null,
   "metadata": {},
   "outputs": [],
   "source": []
  },
  {
   "cell_type": "code",
   "execution_count": null,
   "metadata": {},
   "outputs": [],
   "source": []
  },
  {
   "cell_type": "code",
   "execution_count": null,
   "metadata": {},
   "outputs": [],
   "source": []
  },
  {
   "cell_type": "code",
   "execution_count": 2,
   "metadata": {},
   "outputs": [],
   "source": [
    "# test signal\n",
    "data = np.array([np.loadtxt('../data/test.csv')[0]]).T\n",
    "# data = np.loadtxt('../data/test.csv')[0]\n",
    "# data = filter_signal(data)\n",
    "# data = np.array([data]).T\n",
    "\n",
    "data = data[:20000]\n",
    "\n",
    "\n",
    "\n",
    "# scaler = MinMaxScaler(feature_range=(0, 1))\n",
    "# data = scaler.fit_transform(data)\n"
   ]
  },
  {
   "cell_type": "code",
   "execution_count": 3,
   "metadata": {},
   "outputs": [
    {
     "data": {
      "text/plain": [
       "(20000, 1)"
      ]
     },
     "execution_count": 3,
     "metadata": {},
     "output_type": "execute_result"
    }
   ],
   "source": [
    "data.shape"
   ]
  },
  {
   "cell_type": "code",
   "execution_count": 4,
   "metadata": {},
   "outputs": [
    {
     "data": {
      "text/plain": [
       "<matplotlib.axes._subplots.AxesSubplot at 0x1a31992cc0>"
      ]
     },
     "execution_count": 4,
     "metadata": {},
     "output_type": "execute_result"
    },
    {
     "data": {
      "image/png": "[encoded data removed]",
      "text/plain": [
       "<Figure size 432x288 with 1 Axes>"
      ]
     },
     "metadata": {
      "needs_background": "light"
     },
     "output_type": "display_data"
    }
   ],
   "source": [
    "sns.lineplot(data = data)"
   ]
  },
  {
   "cell_type": "code",
   "execution_count": 5,
   "metadata": {},
   "outputs": [
    {
     "name": "stdout",
     "output_type": "stream",
     "text": [
      "13400 6600\n"
     ]
    }
   ],
   "source": [
    "# split into train and test sets\n",
    "train_size = int(len(data) * 0.67)\n",
    "test_size = len(data) - train_size\n",
    "train, test = data[0:train_size,:], data[train_size:len(data),:]\n",
    "print(len(train), len(test))"
   ]
  },
  {
   "cell_type": "code",
   "execution_count": 6,
   "metadata": {},
   "outputs": [],
   "source": [
    "# convert an array of values into a dataset matrix\n",
    "def create_dataset(dataset, look_back=1):\n",
    "    dataX, dataY = [], []\n",
    "    for i in range(len(dataset)-look_back-1):\n",
    "        a = dataset[i:(i+look_back), 0]\n",
    "        dataX.append(a)\n",
    "        dataY.append(dataset[i + look_back, 0])\n",
    "    return np.array(dataX), np.array(dataY)"
   ]
  },
  {
   "cell_type": "code",
   "execution_count": 7,
   "metadata": {},
   "outputs": [],
   "source": [
    "# reshape into X=t and Y=t+1\n",
    "look_back = 1\n",
    "trainX, trainY = create_dataset(train, look_back)\n",
    "testX, testY = create_dataset(test, look_back)\n",
    "\n",
    "# reshape input to be [samples, time steps, features]\n",
    "trainX = np.reshape(trainX, (trainX.shape[0], 1, trainX.shape[1]))\n",
    "testX = np.reshape(testX, (testX.shape[0], 1, testX.shape[1]))"
   ]
  },
  {
   "cell_type": "code",
   "execution_count": 8,
   "metadata": {},
   "outputs": [
    {
     "name": "stdout",
     "output_type": "stream",
     "text": [
      "(13398, 1, 1)\n",
      "(13398,)\n"
     ]
    }
   ],
   "source": [
    "print(trainX.shape)\n",
    "print(trainY.shape)"
   ]
  },
  {
   "cell_type": "code",
   "execution_count": null,
   "metadata": {},
   "outputs": [],
   "source": [
    "model = Sequential()\n",
    "model.add(LSTM(4, input_shape=(1, look_back)))\n",
    "model.add(Dense(1))\n",
    "model.compile(loss='mean_squared_error', optimizer='adam')\n",
    "model.fit(trainX, trainY, epochs=10, batch_size=1, verbose=2)"
   ]
  },
  {
   "cell_type": "code",
   "execution_count": null,
   "metadata": {},
   "outputs": [],
   "source": [
    "trainY.shape"
   ]
  },
  {
   "cell_type": "code",
   "execution_count": null,
   "metadata": {},
   "outputs": [],
   "source": [
    "from sklearn.metrics import mean_squared_error\n",
    "\n",
    "# make predictions\n",
    "trainPredict = model.predict(trainX)\n",
    "testPredict = model.predict(testX)\n",
    "# invert predictions\n",
    "trainPredict = scaler.inverse_transform(trainPredict)\n",
    "trainY = scaler.inverse_transform(trainY)\n",
    "testPredict = scaler.inverse_transform(testPredict)\n",
    "testY = scaler.inverse_transform(testY)\n",
    "# calculate root mean squared error\n",
    "trainScore = math.sqrt(mean_squared_error(trainY[0], trainPredict[:,0]))\n",
    "print('Train Score: ',trainScore)\n",
    "testScore = math.sqrt(mean_squared_error(testY[0], testPredict[:,0]))\n",
    "print('Test Score: ',testScore)"
   ]
  },
  {
   "cell_type": "code",
   "execution_count": null,
   "metadata": {},
   "outputs": [],
   "source": [
    "import matplotlib.pyplot as plt\n",
    "\n",
    "# shift train predictions for plotting\n",
    "trainPredictPlot = np.empty_like(data)\n",
    "trainPredictPlot[:, :] = np.nan\n",
    "trainPredictPlot[look_back:len(trainPredict)+look_back, :] = trainPredict\n",
    "# shift test predictions for plotting\n",
    "testPredictPlot = np.empty_like(data)\n",
    "testPredictPlot[:, :] = np.nan\n",
    "testPredictPlot[len(trainPredict)+(look_back*2)+1:len(data)-1, :] = testPredict\n",
    "# plot baseline and predictions\n",
    "plt.figure(figsize=(20,8))\n",
    "plt.plot(scaler.inverse_transform(data))\n",
    "plt.plot(trainPredictPlot)\n",
    "plt.plot(testPredictPlot)\n",
    "plt.show()"
   ]
  },
  {
   "cell_type": "code",
   "execution_count": null,
   "metadata": {},
   "outputs": [],
   "source": []
  },
  {
   "cell_type": "code",
   "execution_count": null,
   "metadata": {},
   "outputs": [],
   "source": []
  },
  {
   "cell_type": "code",
   "execution_count": null,
   "metadata": {},
   "outputs": [],
   "source": []
  }
 ],
 "metadata": {
  "kernelspec": {
   "display_name": "Python 3",
   "language": "python",
   "name": "python3"
  },
  "language_info": {
   "codemirror_mode": {
    "name": "ipython",
    "version": 3
   },
   "file_extension": ".py",
   "mimetype": "text/x-python",
   "name": "python",
   "nbconvert_exporter": "python",
   "pygments_lexer": "ipython3",
   "version": "3.6.8"
  }
 },
 "nbformat": 4,
 "nbformat_minor": 2
}
